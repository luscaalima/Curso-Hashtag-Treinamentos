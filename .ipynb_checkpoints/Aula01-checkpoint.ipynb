{
 "cells": [
  {
   "cell_type": "markdown",
   "id": "2abe3ac4-1345-43d1-8a67-8a243e19e8db",
   "metadata": {},
   "source": [
    "# Notebook para revisar as operacoes em Python"
   ]
  },
  {
   "cell_type": "code",
   "execution_count": 6,
   "id": "b5cf540b-7912-42bf-ae69-2c76bd7fb015",
   "metadata": {},
   "outputs": [
    {
     "data": {
      "text/plain": [
       "8"
      ]
     },
     "execution_count": 6,
     "metadata": {},
     "output_type": "execute_result"
    }
   ],
   "source": [
    "5+3"
   ]
  },
  {
   "cell_type": "code",
   "execution_count": 36,
   "id": "8d328c29-3114-4854-a580-e73a0debcd07",
   "metadata": {},
   "outputs": [
    {
     "data": {
      "text/plain": [
       "25"
      ]
     },
     "execution_count": 36,
     "metadata": {},
     "output_type": "execute_result"
    }
   ],
   "source": [
    "#Potencia\n",
    "5 ** 2"
   ]
  },
  {
   "cell_type": "code",
   "execution_count": 40,
   "id": "1fb3166d-5772-4dbb-9184-bbbf5c782a86",
   "metadata": {},
   "outputs": [
    {
     "data": {
      "text/plain": [
       "1.0"
      ]
     },
     "execution_count": 40,
     "metadata": {},
     "output_type": "execute_result"
    }
   ],
   "source": [
    "#Divisao\n",
    "5 / 5 # Resultado sera um float mesmo que os numeros sejam do tipo int"
   ]
  },
  {
   "cell_type": "code",
   "execution_count": 42,
   "id": "7551304e-ef1b-40a8-a07c-a34ddf8e27e9",
   "metadata": {},
   "outputs": [
    {
     "data": {
      "text/plain": [
       "2.5"
      ]
     },
     "execution_count": 42,
     "metadata": {},
     "output_type": "execute_result"
    }
   ],
   "source": [
    "5 / 2"
   ]
  },
  {
   "cell_type": "code",
   "execution_count": 46,
   "id": "00eaf0ec-962b-4d5e-b89e-f6f35852d8fe",
   "metadata": {},
   "outputs": [
    {
     "data": {
      "text/plain": [
       "2"
      ]
     },
     "execution_count": 46,
     "metadata": {},
     "output_type": "execute_result"
    }
   ],
   "source": [
    " 5 // 2  #Nesse caso pegamos somente a parte inteira da divisao"
   ]
  },
  {
   "cell_type": "code",
   "execution_count": 58,
   "id": "ca247b96-2c79-4704-9fd9-b22b39b3d057",
   "metadata": {},
   "outputs": [
    {
     "data": {
      "text/plain": [
       "8"
      ]
     },
     "execution_count": 58,
     "metadata": {},
     "output_type": "execute_result"
    }
   ],
   "source": [
    "#Importasnte entenderer a ordem das operacoes nesse caso a multiplicacao tem preferencia sobre a soma\n",
    "2 + 2 * 3 # Por isso o resultado da 8 podemos colocar paranteses para mudar a ordem das operacoes"
   ]
  },
  {
   "cell_type": "code",
   "execution_count": 60,
   "id": "b6bc95dd-b29a-403e-9abb-fb40f0c6be75",
   "metadata": {},
   "outputs": [
    {
     "data": {
      "text/plain": [
       "12"
      ]
     },
     "execution_count": 60,
     "metadata": {},
     "output_type": "execute_result"
    }
   ],
   "source": [
    "(2+2)*3"
   ]
  },
  {
   "cell_type": "code",
   "execution_count": 62,
   "id": "07359030-23c5-4102-a580-6dabf76746fc",
   "metadata": {},
   "outputs": [
    {
     "data": {
      "text/plain": [
       "150.0"
      ]
     },
     "execution_count": 62,
     "metadata": {},
     "output_type": "execute_result"
    }
   ],
   "source": [
    "1.5 * (10**2)"
   ]
  },
  {
   "cell_type": "code",
   "execution_count": 70,
   "id": "3a959ba9-f236-46ec-87bf-4e9d955750d3",
   "metadata": {},
   "outputs": [
    {
     "data": {
      "text/plain": [
       "1000000"
      ]
     },
     "execution_count": 70,
     "metadata": {},
     "output_type": "execute_result"
    }
   ],
   "source": [
    "#Facilitando a leitura de numeros grandes  ou seja podemos usar \"_\" para facilitar a leitura e separar de 3 em 3 (Unidade,Dezena,Centena)\n",
    "1_000_000"
   ]
  },
  {
   "cell_type": "markdown",
   "id": "f85b0c0e-96e9-454f-9bc2-7aef1f15c8d8",
   "metadata": {},
   "source": [
    "# Cuidados com float"
   ]
  },
  {
   "cell_type": "code",
   "execution_count": 74,
   "id": "cf9e632d-8a37-47ac-9467-11063c1e8ea2",
   "metadata": {},
   "outputs": [
    {
     "data": {
      "text/plain": [
       "0.4"
      ]
     },
     "execution_count": 74,
     "metadata": {},
     "output_type": "execute_result"
    }
   ],
   "source": [
    "0.2 + 0.2"
   ]
  },
  {
   "cell_type": "code",
   "execution_count": 78,
   "id": "58777162-50a3-494e-9792-d2918968a183",
   "metadata": {},
   "outputs": [
    {
     "data": {
      "text/plain": [
       "0.30000000000000004"
      ]
     },
     "execution_count": 78,
     "metadata": {},
     "output_type": "execute_result"
    }
   ],
   "source": [
    "0.1 + 0.2 # Resultado 0.30000000000000004 devido a forma como o Python trabalha com float e armazena float "
   ]
  }
 ],
 "metadata": {
  "kernelspec": {
   "display_name": "Python [conda env:base] *",
   "language": "python",
   "name": "conda-base-py"
  },
  "language_info": {
   "codemirror_mode": {
    "name": "ipython",
    "version": 3
   },
   "file_extension": ".py",
   "mimetype": "text/x-python",
   "name": "python",
   "nbconvert_exporter": "python",
   "pygments_lexer": "ipython3",
   "version": "3.12.7"
  }
 },
 "nbformat": 4,
 "nbformat_minor": 5
}
