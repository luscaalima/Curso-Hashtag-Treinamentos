{
 "cells": [
  {
   "cell_type": "markdown",
   "id": "b8a061ae-e361-4361-8076-715ec2e784b8",
   "metadata": {},
   "source": [
    "# Variaveis"
   ]
  },
  {
   "cell_type": "code",
   "execution_count": 2,
   "id": "4e97ab0a-b298-4b07-a1da-e34b08455451",
   "metadata": {},
   "outputs": [],
   "source": [
    "salario_base = 1500 # Atribuindo o valor 1500 a variavel salario_base importante diferenciar o = como uma atribuicao e nao como de fato um igual da matematica \n",
    "#Basicamente criamos um espaco na memoria do computador que vai guardar esse valor\n",
    "#Importante manter um padrao e boas praticas para facilitar o entendimento e de forma legivel "
   ]
  },
  {
   "cell_type": "code",
   "execution_count": 3,
   "id": "5742e36e-afa0-49f4-b5d9-7572cf353f57",
   "metadata": {},
   "outputs": [
    {
     "name": "stdout",
     "output_type": "stream",
     "text": [
      "1500\n"
     ]
    }
   ],
   "source": [
    "print(salario_base) # A funcao print acaba sendo opcional dentro do Jupyter Notebook"
   ]
  },
  {
   "cell_type": "code",
   "execution_count": 4,
   "id": "a4bdfd59-e024-4cbe-8af0-5edc1636b65c",
   "metadata": {},
   "outputs": [
    {
     "data": {
      "text/plain": [
       "1500"
      ]
     },
     "execution_count": 4,
     "metadata": {},
     "output_type": "execute_result"
    }
   ],
   "source": [
    "salario_base"
   ]
  },
  {
   "cell_type": "code",
   "execution_count": 5,
   "id": "a002cb13-ba72-41c7-81da-2b6780faf393",
   "metadata": {},
   "outputs": [],
   "source": [
    "porcentagem_comissao = 0.5\n",
    "valor_vendas = 500"
   ]
  },
  {
   "cell_type": "code",
   "execution_count": 6,
   "id": "66d285f1-27af-49aa-89ab-a0dd8d0170ed",
   "metadata": {},
   "outputs": [
    {
     "data": {
      "text/plain": [
       "250.0"
      ]
     },
     "execution_count": 6,
     "metadata": {},
     "output_type": "execute_result"
    }
   ],
   "source": [
    "salario_vendas = valor_vendas * porcentagem_comissao\n",
    "salario_vendas"
   ]
  },
  {
   "cell_type": "code",
   "execution_count": 7,
   "id": "8c007225-9dcc-4395-a963-0a41881b3633",
   "metadata": {},
   "outputs": [],
   "source": [
    "salario_final = salario_base + salario_vendas\n",
    "#Um exemplo bem didatico para entender e trabalhar com variaveis"
   ]
  },
  {
   "cell_type": "code",
   "execution_count": 8,
   "id": "f5e548e9-8d00-4919-8858-7939f038927a",
   "metadata": {},
   "outputs": [
    {
     "data": {
      "text/plain": [
       "1750.0"
      ]
     },
     "execution_count": 8,
     "metadata": {},
     "output_type": "execute_result"
    }
   ],
   "source": [
    "salario_final"
   ]
  },
  {
   "cell_type": "code",
   "execution_count": 23,
   "id": "2849a542-1821-4ca1-84ca-a36add1d5f4b",
   "metadata": {},
   "outputs": [],
   "source": [
    "#Vamos supor que nosso funcionario recebe um aumento \n",
    "salario_base = salario_base + 200 #Exatamente aqui e importante entender que o = e uma atribuicao e nao o igual da matematica \n",
    "# Incremento ainda poderia ser feito utilizando salario_base += 200 uma outra sintaxe"
   ]
  },
  {
   "cell_type": "code",
   "execution_count": 10,
   "id": "673bd114-6c82-4d79-8fc1-e8fe446c81ec",
   "metadata": {},
   "outputs": [
    {
     "data": {
      "text/plain": [
       "1700"
      ]
     },
     "execution_count": 10,
     "metadata": {},
     "output_type": "execute_result"
    }
   ],
   "source": [
    "salario_base"
   ]
  },
  {
   "cell_type": "code",
   "execution_count": 11,
   "id": "6bfe55ad-b6da-4315-8b48-4fd9d45703e0",
   "metadata": {},
   "outputs": [
    {
     "data": {
      "text/plain": [
       "1950.0"
      ]
     },
     "execution_count": 11,
     "metadata": {},
     "output_type": "execute_result"
    }
   ],
   "source": [
    "salario_final = salario_base + salario_vendas\n",
    "salario_final"
   ]
  },
  {
   "cell_type": "code",
   "execution_count": null,
   "id": "5ea2c591-ce26-404c-8932-571f297cbce3",
   "metadata": {},
   "outputs": [],
   "source": []
  }
 ],
 "metadata": {
  "kernelspec": {
   "display_name": "Python [conda env:base] *",
   "language": "python",
   "name": "conda-base-py"
  },
  "language_info": {
   "codemirror_mode": {
    "name": "ipython",
    "version": 3
   },
   "file_extension": ".py",
   "mimetype": "text/x-python",
   "name": "python",
   "nbconvert_exporter": "python",
   "pygments_lexer": "ipython3",
   "version": "3.12.7"
  }
 },
 "nbformat": 4,
 "nbformat_minor": 5
}
