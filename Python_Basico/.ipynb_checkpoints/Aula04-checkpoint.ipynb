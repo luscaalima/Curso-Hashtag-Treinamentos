{
 "cells": [
  {
   "cell_type": "markdown",
   "id": "084fa710-3976-4e16-84e0-76f1a8fd8d62",
   "metadata": {},
   "source": [
    "# Comparacoes"
   ]
  },
  {
   "cell_type": "code",
   "execution_count": 6,
   "id": "fea2fae6-a559-4671-9482-8ee8d0f603e0",
   "metadata": {},
   "outputs": [],
   "source": [
    "salario_base = 1500\n",
    "salario_minimo = 1412"
   ]
  },
  {
   "cell_type": "code",
   "execution_count": 10,
   "id": "35cd71d3-6a32-41d5-8bf1-11ac9108461e",
   "metadata": {},
   "outputs": [
    {
     "data": {
      "text/plain": [
       "True"
      ]
     },
     "execution_count": 10,
     "metadata": {},
     "output_type": "execute_result"
    }
   ],
   "source": [
    "salario_base > salario_minimo # Retorna um valor boolean (True/False)"
   ]
  },
  {
   "cell_type": "code",
   "execution_count": null,
   "id": "ff73cd49-aa44-4697-bd83-81ea8de2b625",
   "metadata": {},
   "outputs": [],
   "source": []
  }
 ],
 "metadata": {
  "kernelspec": {
   "display_name": "Python [conda env:base] *",
   "language": "python",
   "name": "conda-base-py"
  },
  "language_info": {
   "codemirror_mode": {
    "name": "ipython",
    "version": 3
   },
   "file_extension": ".py",
   "mimetype": "text/x-python",
   "name": "python",
   "nbconvert_exporter": "python",
   "pygments_lexer": "ipython3",
   "version": "3.12.7"
  }
 },
 "nbformat": 4,
 "nbformat_minor": 5
}
