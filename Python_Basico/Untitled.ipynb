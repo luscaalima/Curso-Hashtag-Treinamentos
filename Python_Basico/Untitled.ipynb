{
 "cells": [
  {
   "cell_type": "markdown",
   "id": "32a6243f-aa2a-4a7a-bfc8-3dab539f4542",
   "metadata": {},
   "source": [
    "# Trabalhando com textos - Strings"
   ]
  },
  {
   "cell_type": "code",
   "execution_count": 7,
   "id": "1962cc6b-a48b-441d-9bd1-34e849152be4",
   "metadata": {},
   "outputs": [
    {
     "data": {
      "text/plain": [
       "'Isso e um texto'"
      ]
     },
     "execution_count": 7,
     "metadata": {},
     "output_type": "execute_result"
    }
   ],
   "source": [
    "\"Isso e um texto\" #Aspas Duplas"
   ]
  },
  {
   "cell_type": "code",
   "execution_count": 5,
   "id": "e0b02bba-3788-44aa-89c9-c23685ddcd15",
   "metadata": {},
   "outputs": [
    {
     "data": {
      "text/plain": [
       "'Isso tambem e um texto'"
      ]
     },
     "execution_count": 5,
     "metadata": {},
     "output_type": "execute_result"
    }
   ],
   "source": [
    "'Isso tambem e um texto' #Aspas simples"
   ]
  },
  {
   "cell_type": "code",
   "execution_count": 27,
   "id": "c66c4784-d3e4-42d0-b2e0-9cbb91858c78",
   "metadata": {},
   "outputs": [
    {
     "name": "stdout",
     "output_type": "stream",
     "text": [
      "Um texto qualquer\n"
     ]
    }
   ],
   "source": [
    "texto = \"Um texto qualquer\"\n",
    "print(texto)"
   ]
  }
 ],
 "metadata": {
  "kernelspec": {
   "display_name": "Python [conda env:base] *",
   "language": "python",
   "name": "conda-base-py"
  },
  "language_info": {
   "codemirror_mode": {
    "name": "ipython",
    "version": 3
   },
   "file_extension": ".py",
   "mimetype": "text/x-python",
   "name": "python",
   "nbconvert_exporter": "python",
   "pygments_lexer": "ipython3",
   "version": "3.12.7"
  }
 },
 "nbformat": 4,
 "nbformat_minor": 5
}
