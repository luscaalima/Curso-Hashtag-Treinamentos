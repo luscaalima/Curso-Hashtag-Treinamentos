{
 "cells": [
  {
   "cell_type": "markdown",
   "id": "32a6243f-aa2a-4a7a-bfc8-3dab539f4542",
   "metadata": {},
   "source": [
    "# Trabalhando com textos - Strings"
   ]
  },
  {
   "cell_type": "code",
   "execution_count": 7,
   "id": "1962cc6b-a48b-441d-9bd1-34e849152be4",
   "metadata": {},
   "outputs": [
    {
     "data": {
      "text/plain": [
       "'Isso e um texto'"
      ]
     },
     "execution_count": 7,
     "metadata": {},
     "output_type": "execute_result"
    }
   ],
   "source": [
    "\"Isso e um texto\" #Aspas Duplas"
   ]
  },
  {
   "cell_type": "code",
   "execution_count": 5,
   "id": "e0b02bba-3788-44aa-89c9-c23685ddcd15",
   "metadata": {},
   "outputs": [
    {
     "data": {
      "text/plain": [
       "'Isso tambem e um texto'"
      ]
     },
     "execution_count": 5,
     "metadata": {},
     "output_type": "execute_result"
    }
   ],
   "source": [
    "'Isso tambem e um texto' #Aspas simples"
   ]
  },
  {
   "cell_type": "code",
   "execution_count": 27,
   "id": "c66c4784-d3e4-42d0-b2e0-9cbb91858c78",
   "metadata": {},
   "outputs": [
    {
     "name": "stdout",
     "output_type": "stream",
     "text": [
      "Um texto qualquer\n"
     ]
    }
   ],
   "source": [
    "texto = \"Um texto qualquer\"\n",
    "print(texto)"
   ]
  },
  {
   "cell_type": "code",
   "execution_count": 45,
   "id": "99ad2d42-eb3e-4f2b-9d12-dbc25a3cab0a",
   "metadata": {},
   "outputs": [
    {
     "name": "stdout",
     "output_type": "stream",
     "text": [
      "\n",
      "Este texto tem uma\n",
      "quebra de \n",
      "\n",
      "linhas\n",
      "\n"
     ]
    }
   ],
   "source": [
    "print(\"\"\"\n",
    "Este texto tem uma\n",
    "quebra de \n",
    "\n",
    "linhas\n",
    "\"\"\")#Importante entender como esta colocando as aspas quando tem uma quebra de linha\n",
    "#Strings de multiplas linhas e importante adicionar o print"
   ]
  },
  {
   "cell_type": "code",
   "execution_count": 43,
   "id": "719d54a7-3207-4264-8391-a5be4dbb9f7d",
   "metadata": {},
   "outputs": [
    {
     "name": "stdout",
     "output_type": "stream",
     "text": [
      "Entendendo como o Python quebra \n",
      " linha\n"
     ]
    }
   ],
   "source": [
    "print(\"Entendendo como o Python quebra \\n linha\")\n",
    "#\\n quebra linha => is like a new line"
   ]
  },
  {
   "cell_type": "code",
   "execution_count": 49,
   "id": "8964497f-9a41-4b8d-b4ae-52fb546ae6d8",
   "metadata": {},
   "outputs": [
    {
     "name": "stdout",
     "output_type": "stream",
     "text": [
      "Olha uma \t tabulacao\n"
     ]
    }
   ],
   "source": [
    "print(\"Olha uma \\t tabulacao\")\n",
    "#Ou seja \\t uma tabulacao"
   ]
  },
  {
   "cell_type": "code",
   "execution_count": null,
   "id": "d3c49ba6-37eb-42d2-a823-55f5c46071e5",
   "metadata": {},
   "outputs": [],
   "source": []
  }
 ],
 "metadata": {
  "kernelspec": {
   "display_name": "Python [conda env:base] *",
   "language": "python",
   "name": "conda-base-py"
  },
  "language_info": {
   "codemirror_mode": {
    "name": "ipython",
    "version": 3
   },
   "file_extension": ".py",
   "mimetype": "text/x-python",
   "name": "python",
   "nbconvert_exporter": "python",
   "pygments_lexer": "ipython3",
   "version": "3.12.7"
  }
 },
 "nbformat": 4,
 "nbformat_minor": 5
}
