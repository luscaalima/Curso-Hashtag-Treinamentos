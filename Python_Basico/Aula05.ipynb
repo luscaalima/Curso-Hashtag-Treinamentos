{
 "cells": [
  {
   "cell_type": "markdown",
   "id": "dac82861-32b7-42d8-8139-6cc0ecbfac9c",
   "metadata": {},
   "source": [
    "# Funcoes built-in"
   ]
  },
  {
   "cell_type": "code",
   "execution_count": 9,
   "id": "969d876f-ba64-4d71-b721-6fe1f0a7e654",
   "metadata": {},
   "outputs": [
    {
     "data": {
      "text/plain": [
       "builtin_function_or_method"
      ]
     },
     "execution_count": 9,
     "metadata": {},
     "output_type": "execute_result"
    }
   ],
   "source": [
    "#Funcoes nativas do python / builtin_function_or_method\n",
    "#Por exemplo type() , print()\n",
    "type(print)"
   ]
  },
  {
   "cell_type": "code",
   "execution_count": null,
   "id": "2b9eaefc-3b62-4ec1-ad7d-7a35ed85f860",
   "metadata": {},
   "outputs": [],
   "source": [
    "help(print)\n",
    "#Podemos utilizar a funcao help para entender melhor como e o que faz uma funcao "
   ]
  },
  {
   "cell_type": "code",
   "execution_count": 15,
   "id": "efa22e13-a7ad-4f3e-90f5-434554a89b04",
   "metadata": {},
   "outputs": [
    {
     "name": "stdout",
     "output_type": "stream",
     "text": [
      "Mostrando valor inteiro 1000 Mostrando outro valor 5000\n"
     ]
    }
   ],
   "source": [
    "valor_inteiro = 1000\n",
    "outro_valor = 5000\n",
    "print(\"Mostrando valor inteiro\",valor_inteiro,\"Mostrando outro valor\",outro_valor) #Ou seja podemos exibir variaveis no python desse jeito"
   ]
  },
  {
   "cell_type": "code",
   "execution_count": 25,
   "id": "0005a6b3-d820-4e22-a9ce-7a76df007c90",
   "metadata": {},
   "outputs": [
    {
     "data": {
      "text/plain": [
       "10.23"
      ]
     },
     "execution_count": 25,
     "metadata": {},
     "output_type": "execute_result"
    }
   ],
   "source": [
    "# A funcao round para arredondamentos\n",
    "round(10.233333,2)"
   ]
  },
  {
   "cell_type": "code",
   "execution_count": 29,
   "id": "0f1ff7df-c0e6-4c84-87b9-2840904fc90a",
   "metadata": {},
   "outputs": [
    {
     "data": {
      "text/plain": [
       "8"
      ]
     },
     "execution_count": 29,
     "metadata": {},
     "output_type": "execute_result"
    }
   ],
   "source": [
    "#Exponenciacao ou seja pow(base,expoente)\n",
    "pow(2,3)"
   ]
  }
 ],
 "metadata": {
  "kernelspec": {
   "display_name": "Python [conda env:base] *",
   "language": "python",
   "name": "conda-base-py"
  },
  "language_info": {
   "codemirror_mode": {
    "name": "ipython",
    "version": 3
   },
   "file_extension": ".py",
   "mimetype": "text/x-python",
   "name": "python",
   "nbconvert_exporter": "python",
   "pygments_lexer": "ipython3",
   "version": "3.12.7"
  }
 },
 "nbformat": 4,
 "nbformat_minor": 5
}
