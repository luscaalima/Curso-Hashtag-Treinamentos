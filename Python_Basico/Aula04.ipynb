{
 "cells": [
  {
   "cell_type": "markdown",
   "id": "084fa710-3976-4e16-84e0-76f1a8fd8d62",
   "metadata": {},
   "source": [
    "# Comparacoes"
   ]
  },
  {
   "cell_type": "code",
   "execution_count": 2,
   "id": "fea2fae6-a559-4671-9482-8ee8d0f603e0",
   "metadata": {},
   "outputs": [],
   "source": [
    "salario_base = 1500\n",
    "salario_minimo = 1412"
   ]
  },
  {
   "cell_type": "code",
   "execution_count": 3,
   "id": "35cd71d3-6a32-41d5-8bf1-11ac9108461e",
   "metadata": {},
   "outputs": [
    {
     "data": {
      "text/plain": [
       "True"
      ]
     },
     "execution_count": 3,
     "metadata": {},
     "output_type": "execute_result"
    }
   ],
   "source": [
    "salario_base > salario_minimo # Retorna um valor boolean (True/"
   ]
  },
  {
   "cell_type": "code",
   "execution_count": 4,
   "id": "ff73cd49-aa44-4697-bd83-81ea8de2b625",
   "metadata": {},
   "outputs": [
    {
     "data": {
      "text/plain": [
       "False"
      ]
     },
     "execution_count": 4,
     "metadata": {},
     "output_type": "execute_result"
    }
   ],
   "source": [
    "salario_base < salario_minimo"
   ]
  },
  {
   "cell_type": "code",
   "execution_count": 12,
   "id": "6f6e629b-fea7-45c8-8546-121955e03a55",
   "metadata": {},
   "outputs": [
    {
     "data": {
      "text/plain": [
       "False"
      ]
     },
     "execution_count": 12,
     "metadata": {},
     "output_type": "execute_result"
    }
   ],
   "source": [
    "salario_base == salario_minimo # Agora nesse contexto podemos entender == como um igual nesse caso estamos verificando se as variaveis sao iguais"
   ]
  },
  {
   "cell_type": "code",
   "execution_count": 16,
   "id": "eee92422-ae07-4991-a6b5-e29a221b540f",
   "metadata": {},
   "outputs": [
    {
     "data": {
      "text/plain": [
       "True"
      ]
     },
     "execution_count": 16,
     "metadata": {},
     "output_type": "execute_result"
    }
   ],
   "source": [
    "salario_base != salario_minimo # Nesse contexto != significa diferente "
   ]
  },
  {
   "cell_type": "code",
   "execution_count": 18,
   "id": "cd2bdaf7-1bf3-446c-b457-72c3c7233b40",
   "metadata": {},
   "outputs": [
    {
     "data": {
      "text/plain": [
       "True"
      ]
     },
     "execution_count": 18,
     "metadata": {},
     "output_type": "execute_result"
    }
   ],
   "source": [
    "salario_base >= salario_minimo # Maior ou igual "
   ]
  },
  {
   "cell_type": "code",
   "execution_count": 22,
   "id": "16a3d26f-8bfc-4e5f-88c9-36bae0295c72",
   "metadata": {},
   "outputs": [
    {
     "data": {
      "text/plain": [
       "False"
      ]
     },
     "execution_count": 22,
     "metadata": {},
     "output_type": "execute_result"
    }
   ],
   "source": [
    "salario_base <= salario_minimo # Menor ou igual"
   ]
  },
  {
   "cell_type": "markdown",
   "id": "9bf79d88-5ec6-40b4-8fae-61a48afb2127",
   "metadata": {},
   "source": [
    "# Operador AND"
   ]
  },
  {
   "cell_type": "code",
   "execution_count": 28,
   "id": "8a1e57cf-17a6-4a2c-a72c-acc9ce42664e",
   "metadata": {},
   "outputs": [
    {
     "data": {
      "text/plain": [
       "True"
      ]
     },
     "execution_count": 28,
     "metadata": {},
     "output_type": "execute_result"
    }
   ],
   "source": [
    "(salario_minimo < 1450) and (1450 < salario_base) # Nesse caso e necessario e verificado se as duas condicoes sao verdadeiras. Uma coisa E outra coisa"
   ]
  },
  {
   "cell_type": "markdown",
   "id": "be51fae9-3ca0-4135-8f1a-4031619959b0",
   "metadata": {},
   "source": [
    "# Operador OR"
   ]
  },
  {
   "cell_type": "code",
   "execution_count": 33,
   "id": "2d088d1f-2ff0-4054-9ff7-ab20147e8f79",
   "metadata": {},
   "outputs": [
    {
     "data": {
      "text/plain": [
       "True"
      ]
     },
     "execution_count": 33,
     "metadata": {},
     "output_type": "execute_result"
    }
   ],
   "source": [
    "(salario_minimo < 1450) or (1450 < salario_base) # Nesse caso e necessario e verificado se as pelo menos uma das condicoes e verdadeiras. Uma coisa ou outra coisa"
   ]
  },
  {
   "cell_type": "markdown",
   "id": "ed835a8c-a521-4e4f-8560-8c41cd925a85",
   "metadata": {},
   "source": [
    "# Tipos de Variaveis"
   ]
  },
  {
   "cell_type": "code",
   "execution_count": 45,
   "id": "b17c677b-7ae4-43fd-b2dc-ccb044c233d2",
   "metadata": {},
   "outputs": [
    {
     "data": {
      "text/plain": [
       "float"
      ]
     },
     "execution_count": 45,
     "metadata": {},
     "output_type": "execute_result"
    }
   ],
   "source": [
    "# Vamos usar a funcao type(variavel)\n",
    "variavel_float = 0.5\n",
    "type(variavel_float)"
   ]
  }
 ],
 "metadata": {
  "kernelspec": {
   "display_name": "Python [conda env:base] *",
   "language": "python",
   "name": "conda-base-py"
  },
  "language_info": {
   "codemirror_mode": {
    "name": "ipython",
    "version": 3
   },
   "file_extension": ".py",
   "mimetype": "text/x-python",
   "name": "python",
   "nbconvert_exporter": "python",
   "pygments_lexer": "ipython3",
   "version": "3.12.7"
  }
 },
 "nbformat": 4,
 "nbformat_minor": 5
}
